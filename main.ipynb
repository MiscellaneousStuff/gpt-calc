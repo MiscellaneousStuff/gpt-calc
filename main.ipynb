{
 "cells": [
  {
   "cell_type": "markdown",
   "metadata": {},
   "source": [
    "# GPT Calc"
   ]
  },
  {
   "cell_type": "markdown",
   "metadata": {},
   "source": [
    "## GPT-4 API Pricing"
   ]
  },
  {
   "cell_type": "code",
   "execution_count": 30,
   "metadata": {},
   "outputs": [],
   "source": [
    "input_tokens_1k_usd  = 0.01 # $0.01 per 1000 tokens\n",
    "output_tokens_1k_usd = 0.03 # $0.03 per 1000 tokens"
   ]
  },
  {
   "cell_type": "markdown",
   "metadata": {},
   "source": [
    "## Import Libraries"
   ]
  },
  {
   "cell_type": "code",
   "execution_count": 1,
   "metadata": {},
   "outputs": [],
   "source": [
    "import tiktoken\n",
    "from main import *\n",
    "from datetime import datetime"
   ]
  },
  {
   "cell_type": "code",
   "execution_count": 2,
   "metadata": {},
   "outputs": [],
   "source": [
    "with open(\"conversations.json\") as f:\n",
    "    sessions = json.loads(f.read())\n",
    "    topics = flatten(sessions)\n",
    "mapping = [s.get(\"mapping\", {}) for s in sessions]  # Use get() to avoid KeyError\n",
    "\n",
    "entries = process_mapping(mapping)\n",
    "\n",
    "entries_df = pd.DataFrame(\n",
    "    data=entries,\n",
    "    columns=[\"model\", \"role\", \"text\", \"create_time\"])\n",
    "entries_df[\"create_time\"] = pd.to_datetime(entries_df[\"create_time\"] * 1_000_000_000)"
   ]
  },
  {
   "cell_type": "code",
   "execution_count": 3,
   "metadata": {},
   "outputs": [
    {
     "data": {
      "text/html": [
       "<div>\n",
       "<style scoped>\n",
       "    .dataframe tbody tr th:only-of-type {\n",
       "        vertical-align: middle;\n",
       "    }\n",
       "\n",
       "    .dataframe tbody tr th {\n",
       "        vertical-align: top;\n",
       "    }\n",
       "\n",
       "    .dataframe thead th {\n",
       "        text-align: right;\n",
       "    }\n",
       "</style>\n",
       "<table border=\"1\" class=\"dataframe\">\n",
       "  <thead>\n",
       "    <tr style=\"text-align: right;\">\n",
       "      <th></th>\n",
       "      <th>model</th>\n",
       "      <th>role</th>\n",
       "      <th>text</th>\n",
       "      <th>create_time</th>\n",
       "    </tr>\n",
       "  </thead>\n",
       "  <tbody>\n",
       "    <tr>\n",
       "      <th>0</th>\n",
       "      <td></td>\n",
       "      <td>system</td>\n",
       "      <td></td>\n",
       "      <td>NaT</td>\n",
       "    </tr>\n",
       "    <tr>\n",
       "      <th>1</th>\n",
       "      <td>gpt-4</td>\n",
       "      <td>user</td>\n",
       "      <td>my friend showed me an app which lets you try ...</td>\n",
       "      <td>2024-02-12 05:16:20.824388864</td>\n",
       "    </tr>\n",
       "    <tr>\n",
       "      <th>2</th>\n",
       "      <td>gpt-4</td>\n",
       "      <td>assistant</td>\n",
       "      <td>To find an app that allows you to experiment w...</td>\n",
       "      <td>2024-02-12 05:16:26.078672896</td>\n",
       "    </tr>\n",
       "    <tr>\n",
       "      <th>3</th>\n",
       "      <td></td>\n",
       "      <td>system</td>\n",
       "      <td></td>\n",
       "      <td>NaT</td>\n",
       "    </tr>\n",
       "    <tr>\n",
       "      <th>4</th>\n",
       "      <td>gpt-4</td>\n",
       "      <td>user</td>\n",
       "      <td>Hi, how do I politely word a text to a client ...</td>\n",
       "      <td>2024-02-11 15:05:09.858119936</td>\n",
       "    </tr>\n",
       "  </tbody>\n",
       "</table>\n",
       "</div>"
      ],
      "text/plain": [
       "   model       role                                               text  \\\n",
       "0            system                                                      \n",
       "1  gpt-4       user  my friend showed me an app which lets you try ...   \n",
       "2  gpt-4  assistant  To find an app that allows you to experiment w...   \n",
       "3            system                                                      \n",
       "4  gpt-4       user  Hi, how do I politely word a text to a client ...   \n",
       "\n",
       "                    create_time  \n",
       "0                           NaT  \n",
       "1 2024-02-12 05:16:20.824388864  \n",
       "2 2024-02-12 05:16:26.078672896  \n",
       "3                           NaT  \n",
       "4 2024-02-11 15:05:09.858119936  "
      ]
     },
     "execution_count": 3,
     "metadata": {},
     "output_type": "execute_result"
    }
   ],
   "source": [
    "entries_df.head()"
   ]
  },
  {
   "cell_type": "code",
   "execution_count": 4,
   "metadata": {},
   "outputs": [
    {
     "data": {
      "text/plain": [
       "array(['system', 'user', 'assistant', 'tool'], dtype=object)"
      ]
     },
     "execution_count": 4,
     "metadata": {},
     "output_type": "execute_result"
    }
   ],
   "source": [
    "entries_df[\"role\"].unique()"
   ]
  },
  {
   "cell_type": "code",
   "execution_count": 5,
   "metadata": {},
   "outputs": [
    {
     "data": {
      "text/plain": [
       "array(['', 'gpt-4', 'text-davinci-002-render-sha', 'gpt-4-gizmo'],\n",
       "      dtype=object)"
      ]
     },
     "execution_count": 5,
     "metadata": {},
     "output_type": "execute_result"
    }
   ],
   "source": [
    "# text-davinci-002-render-sha := GPT 3.5\n",
    "entries_df[\"model\"].unique()"
   ]
  },
  {
   "cell_type": "code",
   "execution_count": 6,
   "metadata": {},
   "outputs": [],
   "source": [
    "gizmo_df = entries_df[entries_df[\"model\"] == \"gpt-4-gizmo\"]"
   ]
  },
  {
   "cell_type": "code",
   "execution_count": 7,
   "metadata": {},
   "outputs": [
    {
     "data": {
      "text/html": [
       "<div>\n",
       "<style scoped>\n",
       "    .dataframe tbody tr th:only-of-type {\n",
       "        vertical-align: middle;\n",
       "    }\n",
       "\n",
       "    .dataframe tbody tr th {\n",
       "        vertical-align: top;\n",
       "    }\n",
       "\n",
       "    .dataframe thead th {\n",
       "        text-align: right;\n",
       "    }\n",
       "</style>\n",
       "<table border=\"1\" class=\"dataframe\">\n",
       "  <thead>\n",
       "    <tr style=\"text-align: right;\">\n",
       "      <th></th>\n",
       "      <th>model</th>\n",
       "      <th>role</th>\n",
       "      <th>text</th>\n",
       "      <th>create_time</th>\n",
       "    </tr>\n",
       "  </thead>\n",
       "  <tbody>\n",
       "    <tr>\n",
       "      <th>2021</th>\n",
       "      <td>gpt-4-gizmo</td>\n",
       "      <td>tool</td>\n",
       "      <td></td>\n",
       "      <td>2024-01-11 08:27:46.109074176</td>\n",
       "    </tr>\n",
       "    <tr>\n",
       "      <th>2023</th>\n",
       "      <td>gpt-4-gizmo</td>\n",
       "      <td>tool</td>\n",
       "      <td>{\"items\":[{\"paper_title\":\"Signal acquisition a...</td>\n",
       "      <td>2024-01-11 08:29:09.108526080</td>\n",
       "    </tr>\n",
       "    <tr>\n",
       "      <th>2024</th>\n",
       "      <td>gpt-4-gizmo</td>\n",
       "      <td>assistant</td>\n",
       "      <td>The state of the art (SOTA) in Surface Electro...</td>\n",
       "      <td>2024-01-11 08:29:09.108745984</td>\n",
       "    </tr>\n",
       "  </tbody>\n",
       "</table>\n",
       "</div>"
      ],
      "text/plain": [
       "            model       role  \\\n",
       "2021  gpt-4-gizmo       tool   \n",
       "2023  gpt-4-gizmo       tool   \n",
       "2024  gpt-4-gizmo  assistant   \n",
       "\n",
       "                                                   text  \\\n",
       "2021                                                      \n",
       "2023  {\"items\":[{\"paper_title\":\"Signal acquisition a...   \n",
       "2024  The state of the art (SOTA) in Surface Electro...   \n",
       "\n",
       "                       create_time  \n",
       "2021 2024-01-11 08:27:46.109074176  \n",
       "2023 2024-01-11 08:29:09.108526080  \n",
       "2024 2024-01-11 08:29:09.108745984  "
      ]
     },
     "execution_count": 7,
     "metadata": {},
     "output_type": "execute_result"
    }
   ],
   "source": [
    "gizmo_df"
   ]
  },
  {
   "cell_type": "markdown",
   "metadata": {},
   "source": [
    "## Tokenise All Prompts and Responses"
   ]
  },
  {
   "cell_type": "code",
   "execution_count": 8,
   "metadata": {},
   "outputs": [],
   "source": [
    "enc = tiktoken.get_encoding(\"cl100k_base\")\n",
    "\n",
    "def get_tokens(row):\n",
    "    text = row[\"text\"]\n",
    "    tokens = enc.encode(text)\n",
    "    return len(tokens)\n",
    "\n",
    "token_count = entries_df.apply(lambda row: get_tokens(row), axis=1)"
   ]
  },
  {
   "cell_type": "code",
   "execution_count": 9,
   "metadata": {},
   "outputs": [],
   "source": [
    "entries_df[\"token_count\"] = token_count"
   ]
  },
  {
   "cell_type": "code",
   "execution_count": 27,
   "metadata": {},
   "outputs": [],
   "source": [
    "jan_input_tokens = entries_df[\n",
    "    (entries_df[\"model\"] == \"gpt-4\") &\n",
    "    (entries_df[\"role\"]  == \"assistant\") &\n",
    "    (entries_df[\"create_time\"] > datetime(2024, 1, 1)) & \n",
    "    (entries_df[\"create_time\"] < datetime(2024, 2, 1))\n",
    "][\"token_count\"].sum()"
   ]
  },
  {
   "cell_type": "code",
   "execution_count": 28,
   "metadata": {},
   "outputs": [],
   "source": [
    "jan_output_tokens = entries_df[\n",
    "    (entries_df[\"model\"] == \"gpt-4\") &\n",
    "    (entries_df[\"role\"]  == \"user\") &\n",
    "    (entries_df[\"create_time\"] > datetime(2024, 1, 1)) & \n",
    "    (entries_df[\"create_time\"] < datetime(2024, 2, 1))\n",
    "][\"token_count\"].sum()"
   ]
  },
  {
   "cell_type": "markdown",
   "metadata": {},
   "source": [
    "## Calculate Costs"
   ]
  },
  {
   "cell_type": "code",
   "execution_count": 31,
   "metadata": {},
   "outputs": [
    {
     "data": {
      "text/plain": [
       "(4.0900799999999995, 9.51024)"
      ]
     },
     "execution_count": 31,
     "metadata": {},
     "output_type": "execute_result"
    }
   ],
   "source": [
    "jan_input_cost_usd = (jan_input_tokens / 1000) * input_tokens_1k_usd\n",
    "jan_output_cost_usd = (jan_output_tokens / 1000) * output_tokens_1k_usd\n",
    "jan_input_cost_usd, jan_output_cost_usd"
   ]
  }
 ],
 "metadata": {
  "kernelspec": {
   "display_name": "base",
   "language": "python",
   "name": "python3"
  },
  "language_info": {
   "codemirror_mode": {
    "name": "ipython",
    "version": 3
   },
   "file_extension": ".py",
   "mimetype": "text/x-python",
   "name": "python",
   "nbconvert_exporter": "python",
   "pygments_lexer": "ipython3",
   "version": "3.11.5"
  }
 },
 "nbformat": 4,
 "nbformat_minor": 2
}
